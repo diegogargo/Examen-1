{
  "nbformat": 4,
  "nbformat_minor": 0,
  "metadata": {
    "colab": {
      "provenance": []
    },
    "kernelspec": {
      "name": "python3",
      "display_name": "Python 3"
    },
    "language_info": {
      "name": "python"
    }
  },
  "cells": [
    {
      "cell_type": "code",
      "execution_count": 102,
      "metadata": {
        "id": "HiKQEPFrrdZW"
      },
      "outputs": [],
      "source": [
        "import numpy\n",
        "# Importa las funciones matematicas\n",
        "class Formula:# Se crea una clase madre\n",
        "    def __init__(self, lado):\n",
        "        self.lado = lado\n",
        "# Se crea una clase heredada\n",
        "class Triangulo(Formula):\n",
        "    def __init__(self, lado):\n",
        "        ().__init__(lado)\n",
        "\n",
        "    def area(self):\n",
        "        # Área de un triángulo equilátero: (lado^2 * sqrt(3)) / 4\n",
        "        return (self.lado ** 2 * numpy.sqrt(3)) / 4\n",
        "\n",
        "    def perimetro(self):\n",
        "        # Perímetro de un triángulo equilátero: lado * 3\n",
        "        return self.lado * 3"
      ]
    },
    {
      "cell_type": "code",
      "source": [
        "class Mensaje(Formula):\n",
        "  def __init__(self):\n",
        "      print('Fin del programa')\n",
        "  def fin(self):\n",
        "      print('Gracias')"
      ],
      "metadata": {
        "id": "ZNlDCimb-yVS"
      },
      "execution_count": 100,
      "outputs": []
    },
    {
      "cell_type": "code",
      "source": [
        "lado = 6\n",
        "print(\"El área del Triángulo es:\",triangulo.area())\n",
        "print(\"El perimetro del Triángulo es:\",triangulo.per())\n",
        "mensaje = Mensaje()\n",
        "mensaje.fin()"
      ],
      "metadata": {
        "colab": {
          "base_uri": "https://localhost:8080/"
        },
        "id": "X99Sw8vwsBWc",
        "outputId": "612aba51-5158-42ae-c050-f44698239e24"
      },
      "execution_count": 101,
      "outputs": [
        {
          "output_type": "stream",
          "name": "stdout",
          "text": [
            "El área del Triángulo es: 15.588457268119894\n",
            "El perimetro del Triángulo es: 18\n",
            "Fin del programa\n",
            "Gracias\n"
          ]
        }
      ]
    },
    {
      "cell_type": "code",
      "source": [
        "import numpy as np\n",
        "#Hacer una lista con 16 números random de un intervalo de 1-100\n",
        "L = [i for i in np.random.randint (1,101, size=16)]\n",
        "L\n"
      ],
      "metadata": {
        "colab": {
          "base_uri": "https://localhost:8080/"
        },
        "id": "CWpbzE0e2BTF",
        "outputId": "2442cc6a-17d5-4900-bb07-90202a0ad95d"
      },
      "execution_count": 75,
      "outputs": [
        {
          "output_type": "execute_result",
          "data": {
            "text/plain": [
              "[39, 9, 33, 35, 11, 24, 16, 88, 26, 72, 93, 75, 63, 47, 33, 89]"
            ]
          },
          "metadata": {},
          "execution_count": 75
        }
      ]
    },
    {
      "cell_type": "code",
      "source": [
        "# Definir una lista mediante el arreglo creado\n",
        "L_arreglo =np.array(L)\n",
        "L_arreglo"
      ],
      "metadata": {
        "colab": {
          "base_uri": "https://localhost:8080/"
        },
        "id": "oTLzrYe55eiz",
        "outputId": "270671a4-c3aa-4513-d4f8-e9850b89b0ce"
      },
      "execution_count": 76,
      "outputs": [
        {
          "output_type": "execute_result",
          "data": {
            "text/plain": [
              "array([39,  9, 33, 35, 11, 24, 16, 88, 26, 72, 93, 75, 63, 47, 33, 89])"
            ]
          },
          "metadata": {},
          "execution_count": 76
        }
      ]
    },
    {
      "cell_type": "code",
      "source": [
        "# Definir a la matriz como la lista creada y hacer que de una lista la convierta en una matriz\n",
        "L_matriz= L_arreglo.reshape(4,4)\n",
        "M_matriz = np.array([L_arreglo]).reshape(4,4)\n",
        "M_matriz"
      ],
      "metadata": {
        "colab": {
          "base_uri": "https://localhost:8080/"
        },
        "id": "vcSApoDi7Kz0",
        "outputId": "5b4c1e97-f792-4c22-edb0-e9fb5ff3656c"
      },
      "execution_count": 81,
      "outputs": [
        {
          "output_type": "execute_result",
          "data": {
            "text/plain": [
              "array([[39,  9, 33, 35],\n",
              "       [11, 24, 16, 88],\n",
              "       [26, 72, 93, 75],\n",
              "       [63, 47, 33, 89]])"
            ]
          },
          "metadata": {},
          "execution_count": 81
        }
      ]
    },
    {
      "cell_type": "code",
      "source": [
        "# Sacar el determinante de la matriz\n",
        "det= np.linalg.det(M_matriz)\n",
        "tranpuesta = M_matriz.T"
      ],
      "metadata": {
        "id": "AK03EZwY7tQe"
      },
      "execution_count": 95,
      "outputs": []
    },
    {
      "cell_type": "code",
      "source": [
        "det"
      ],
      "metadata": {
        "colab": {
          "base_uri": "https://localhost:8080/"
        },
        "id": "vM67DTdmABBo",
        "outputId": "299120e8-411a-4ba8-9e91-e19958a3780a"
      },
      "execution_count": 96,
      "outputs": [
        {
          "output_type": "execute_result",
          "data": {
            "text/plain": [
              "-8420689.999999987"
            ]
          },
          "metadata": {},
          "execution_count": 96
        }
      ]
    },
    {
      "cell_type": "code",
      "source": [
        "tranpuesta"
      ],
      "metadata": {
        "colab": {
          "base_uri": "https://localhost:8080/"
        },
        "id": "PIUL5COnABfL",
        "outputId": "fdd1a056-e019-4fcc-e12a-dc54899109ea"
      },
      "execution_count": 98,
      "outputs": [
        {
          "output_type": "execute_result",
          "data": {
            "text/plain": [
              "array([[39, 11, 26, 63],\n",
              "       [ 9, 24, 72, 47],\n",
              "       [33, 16, 93, 33],\n",
              "       [35, 88, 75, 89]])"
            ]
          },
          "metadata": {},
          "execution_count": 98
        }
      ]
    }
  ]
}